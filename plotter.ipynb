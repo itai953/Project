{
 "cells": [
  {
   "cell_type": "code",
   "execution_count": null,
   "metadata": {},
   "outputs": [],
   "source": [
    "import matplotlib.pyplot as plt\n",
    "import numpy as np"
   ]
  },
  {
   "cell_type": "code",
   "execution_count": null,
   "metadata": {},
   "outputs": [],
   "source": [
    "def read(fpath):\n",
    "    try:\n",
    "        with open(fpath) as f:\n",
    "            flines = f.readlines()\n",
    "    except:\n",
    "        return None\n",
    "    len_flines = len(flines)\n",
    "    n_vals = [flines[i] for i in range(0, len_flines,3)]\n",
    "    n_vals = [int(num) for num in n_vals]\n",
    "    avg_vecs = [flines[i] for i in range(1,len_flines,3)]\n",
    "    max_vecs = [flines[i] for i in range(2,len_flines,3)]\n",
    "    vec_len = len(avg_vecs[0].split(\" \")) - 2\n",
    "    for i,vec in enumerate(avg_vecs):\n",
    "        vec = vec.split(\" \")[1:vec_len+1]\n",
    "        avg_vecs[i] = [float(j) for j in vec]\n",
    "        avg_vecs[i] = sum([avg_vecs[i][j]*2**(-j) for j in range(vec_len)])\n",
    "    \n",
    "    for i,vec in enumerate(max_vecs):\n",
    "        vec = vec.split(\" \")[1:vec_len+1]\n",
    "        max_vecs[i] = [int(j) for j in vec]\n",
    "        max_vecs[i] = sum([max_vecs[i][j]*2**(-j) for j in range(vec_len)])\n",
    "    \n",
    "    return np.array(n_vals),np.array(max_vecs),np.array(avg_vecs)"
   ]
  },
  {
   "cell_type": "code",
   "execution_count": null,
   "metadata": {},
   "outputs": [],
   "source": [
    "data = [read(f\"results/testing_g20/test_{i}.log\") for i in range(100)]\n",
    "# data = [tup for tup in data if tup is not None]\n"
   ]
  },
  {
   "cell_type": "code",
   "execution_count": null,
   "metadata": {},
   "outputs": [],
   "source": [
    "plt.figure(figsize=(20,20))\n",
    "plt.yscale(\"log\")\n",
    "for tup in data:\n",
    "    plt.plot(tup[0],tup[1])\n",
    "plt.show()"
   ]
  },
  {
   "cell_type": "code",
   "execution_count": null,
   "metadata": {},
   "outputs": [],
   "source": []
  }
 ],
 "metadata": {
  "kernelspec": {
   "display_name": "Python 3.6.8 ('venv': venv)",
   "language": "python",
   "name": "python3"
  },
  "language_info": {
   "codemirror_mode": {
    "name": "ipython",
    "version": 3
   },
   "file_extension": ".py",
   "mimetype": "text/x-python",
   "name": "python",
   "nbconvert_exporter": "python",
   "pygments_lexer": "ipython3",
   "version": "3.6.8"
  },
  "orig_nbformat": 4,
  "vscode": {
   "interpreter": {
    "hash": "fae0692d8dedbab233323ae03085ea6bacff457738685a914cafc50f0e30cf96"
   }
  }
 },
 "nbformat": 4,
 "nbformat_minor": 2
}
