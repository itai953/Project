{
 "cells": [
  {
   "cell_type": "code",
   "execution_count": 12,
   "metadata": {},
   "outputs": [],
   "source": [
    "import matplotlib.pyplot as plt\n",
    "import numpy as np"
   ]
  },
  {
   "cell_type": "code",
   "execution_count": 13,
   "metadata": {},
   "outputs": [],
   "source": [
    "def read(fpath):\n",
    "    try:\n",
    "        with open(fpath) as f:\n",
    "            flines = f.readlines()\n",
    "    except:\n",
    "        return None\n",
    "    len_flines = len(flines)\n",
    "    n_vals = [flines[i] for i in range(0, len_flines,3)]\n",
    "    try:\n",
    "        int(n_vals[-1])\n",
    "    except:\n",
    "        n_vals = n_vals[:-1]\n",
    "    n_vals = [int(num) for num in n_vals]\n",
    "    avg_vecs = [flines[i] for i in range(1,len_flines,3)]\n",
    "    max_vecs = [flines[i] for i in range(2,len_flines,3)]\n",
    "    vec_len = len(avg_vecs[0].split(\" \")) - 2\n",
    "    for i,vec in enumerate(avg_vecs):\n",
    "        vec = vec.split(\" \")[1:vec_len+1]\n",
    "        avg_vecs[i] = [float(j) for j in vec]\n",
    "        avg_vecs[i] = sum([avg_vecs[i][j]*2**(-(j+1)) for j in range(vec_len)])\n",
    "    \n",
    "    for i,vec in enumerate(max_vecs):\n",
    "        vec = vec.split(\" \")[1:vec_len+1]\n",
    "        max_vecs[i] = [int(j) for j in vec]\n",
    "        max_vecs[i] = sum([max_vecs[i][j]*2**(-(j+1)) for j in range(vec_len)])\n",
    "    \n",
    "    return np.array(n_vals),np.array(max_vecs),np.array(avg_vecs)"
   ]
  },
  {
   "cell_type": "code",
   "execution_count": 14,
   "metadata": {},
   "outputs": [],
   "source": [
    "data = [read(f\"output/file_{i}.txt\") for i in range(20)]\n",
    "# data = [tup for tup in data if tup is not None]\n"
   ]
  },
  {
   "cell_type": "code",
   "execution_count": 17,
   "metadata": {},
   "outputs": [
    {
     "data": {
      "image/png": "[encoded data removed]",
      "text/plain": [
       "<Figure size 432x288 with 1 Axes>"
      ]
     },
     "metadata": {
      "needs_background": "light"
     },
     "output_type": "display_data"
    }
   ],
   "source": [
    "# plt.figure(figsize=(20,20))\n",
    "plt.yscale(\"log\")\n",
    "for tup in data[0:1]:\n",
    "    plt.plot(tup[0],tup[1])\n",
    "plt.show()"
   ]
  },
  {
   "cell_type": "code",
   "execution_count": 4,
   "metadata": {},
   "outputs": [],
   "source": [
    "import os\n",
    "\n",
    "# Open input file\n",
    "with open('testing_g20_check_0.log', 'r') as input_file:\n",
    "    # Read the entire file\n",
    "    input_text = input_file.read()\n",
    "    # Split the text at \"@@\"\n",
    "    file_contents = input_text.split('@@')\n",
    "    # Remove leading/trailing whitespace from each section\n",
    "    file_contents = [content.strip() for content in file_contents]\n",
    "    \n",
    "    # Create a directory to store the output files\n",
    "    if not os.path.exists('output'):\n",
    "        os.makedirs('output')\n",
    "    \n",
    "    # Write each section to a separate file in the output directory\n",
    "    for i, content in enumerate(file_contents):\n",
    "        filename = os.path.join('output', f'file_{i}.txt')\n",
    "        with open(filename, 'w') as output_file:\n",
    "            output_file.write(content)"
   ]
  }
 ],
 "metadata": {
  "kernelspec": {
   "display_name": "Python 3.6.8 ('venv': venv)",
   "language": "python",
   "name": "python3"
  },
  "language_info": {
   "codemirror_mode": {
    "name": "ipython",
    "version": 3
   },
   "file_extension": ".py",
   "mimetype": "text/x-python",
   "name": "python",
   "nbconvert_exporter": "python",
   "pygments_lexer": "ipython3",
   "version": "3.6.8"
  },
  "orig_nbformat": 4,
  "vscode": {
   "interpreter": {
    "hash": "fae0692d8dedbab233323ae03085ea6bacff457738685a914cafc50f0e30cf96"
   }
  }
 },
 "nbformat": 4,
 "nbformat_minor": 2
}
